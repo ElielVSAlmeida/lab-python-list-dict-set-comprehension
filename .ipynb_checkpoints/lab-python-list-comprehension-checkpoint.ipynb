{
 "cells": [
  {
   "cell_type": "markdown",
   "id": "25d7736c-ba17-4aff-b6bb-66eba20fbf4e",
   "metadata": {},
   "source": [
    "# Lab | List, Dict and Set Comprehension"
   ]
  },
  {
   "cell_type": "markdown",
   "id": "7dd3cbde-675a-4b81-92c3-f728846dbe06",
   "metadata": {},
   "source": [
    "## Exercise: Managing Customer Orders Optimized with Comprehension"
   ]
  },
  {
   "cell_type": "markdown",
   "id": "5d500160-2fb7-4777-b5e4-09d45ebaf328",
   "metadata": {},
   "source": [
    "In the previous exercise, you developed a program to manage customer orders and inventory. Now, let's take it a step further and incorporate comprehension into your code.\n",
    "\n",
    "Follow the steps below to complete the exercise:\n",
    "\n",
    "1. Review your code from the previous exercise and identify areas where you can apply comprehension to simplify and streamline your code. \n",
    "\n",
    "    - *Hint: Apply it to initialize inventory, updating the inventory and printing the updated inventory.*\n",
    "    \n",
    "    - For example, in initializing the inventory, we could have:\n",
    "    \n",
    "        ```python\n",
    "        def initialize_inventory(products):\n",
    "            inventory = {product: int(input(f\"Enter the quantity of {product}s available: \")) for product in products}\n",
    "            return inventory\n",
    "\n",
    "        ```\n",
    "<br>\n",
    "    \n",
    "    \n",
    "2. Modify the function get_customer_orders so it prompts the user to enter the number of customer orders and gathers the product names using a loop and user input. Use comprehension.\n",
    "\n",
    "3. Add a new function to calculate the total price of the customer order. For each product in customer_orders, prompt the user to enter the price of that product. Use comprehension to calculate the total price. Note: assume that the user can only have 1 unit of each product.\n",
    "\n",
    "4. Modify the update_inventory function to remove the product from the inventory if its quantity becomes zero after fulfilling the customer orders. Use comprehension to filter out the products with a quantity of zero from the inventory.\n",
    "\n",
    "5. Print the total price of the customer order.\n",
    "\n",
    "Your code should produce output similar to the following:\n",
    "\n",
    "```python\n",
    "Enter the quantity of t-shirts available:  5\n",
    "Enter the quantity of mugs available:  4\n",
    "Enter the quantity of hats available:  3\n",
    "Enter the quantity of books available:  2\n",
    "Enter the quantity of keychains available:  1\n",
    "Enter the number of customer orders:  2\n",
    "Enter the name of a product that a customer wants to order:  hat\n",
    "Enter the name of a product that a customer wants to order:  keychain\n",
    "\n",
    "Order Statistics:\n",
    "Total Products Ordered: 2\n",
    "Percentage of Unique Products Ordered: 40.0\n",
    "\n",
    "Updated Inventory:\n",
    "t-shirt: 5\n",
    "mug: 4\n",
    "hat: 2\n",
    "book: 2\n",
    "Enter the price of keychain:  5\n",
    "Enter the price of hat:  10\n",
    "Total Price: 15.0\n",
    "\n",
    "```\n"
   ]
  },
  {
   "cell_type": "code",
   "execution_count": 51,
   "id": "9680df5b",
   "metadata": {},
   "outputs": [
    {
     "name": "stdout",
     "output_type": "stream",
     "text": [
      "Please place the quantity of t-shirt: 5\n",
      "Please place the quantity of mug: 5\n",
      "Please place the quantity of hat: 5\n",
      "Please place the quantity of book: 5\n",
      "Please place the quantity of keychain: 5\n"
     ]
    }
   ],
   "source": [
    "productList = [\"t-shirt\", \"mug\", \"hat\", \"book\", \"keychain\"]\n",
    "def initializeInventory(products):\n",
    "    inventory = {item : int(input(f'Please place the quantity of {item}: ')) for item in products}\n",
    "    \n",
    "    return inventory\n",
    "inVen = initializeInventory(productList)"
   ]
  },
  {
   "cell_type": "code",
   "execution_count": 52,
   "id": "061a007f",
   "metadata": {},
   "outputs": [
    {
     "name": "stdout",
     "output_type": "stream",
     "text": [
      "How many would you like to order? 2\n",
      "Products you want order? hat\n",
      "Products you want order? book\n"
     ]
    }
   ],
   "source": [
    "def getCustOrder():\n",
    "    intendedAction = int(input(\"How many would you like to order? \"))\n",
    "    customerOrder = {input('Products you want order? ') for order in range(intendedAction)}\n",
    "    \n",
    "    return customerOrder\n",
    "theOrder = getCustOrder()"
   ]
  },
  {
   "cell_type": "code",
   "execution_count": 85,
   "id": "eff90275",
   "metadata": {},
   "outputs": [
    {
     "name": "stdout",
     "output_type": "stream",
     "text": [
      "Which price is book? 535\n",
      "Which price is hat? 257\n",
      "Which price is book? 436\n",
      "Which price is hat? 356\n"
     ]
    },
    {
     "data": {
      "text/plain": [
       "({'book': 436, 'hat': 356}, 792)"
      ]
     },
     "execution_count": 85,
     "metadata": {},
     "output_type": "execute_result"
    }
   ],
   "source": [
    "def pricedOrder(order):\n",
    "    dictionary = {x:int(input(f'Which price is {x}? ')) for x in order}\n",
    "    priceCalc = sum(dictionary.values())\n",
    "    return dictionary, priceCalc\n",
    "getPrice = pricedOrder(theOrder)\n",
    "pricedOrder(theOrder)"
   ]
  },
  {
   "cell_type": "code",
   "execution_count": 55,
   "id": "c7a60a95",
   "metadata": {},
   "outputs": [],
   "source": [
    "def calculateOrdStatistics(customerOrder, products):\n",
    "    quantCusOrder = len(customerOrder)\n",
    "    customerPercentege = quantCusOrder/sum(products.values())*100\n",
    "    return quantCusOrder, customerPercentege\n",
    "calStas = calculateOrdStatistics(theOrder, inVen)"
   ]
  },
  {
   "cell_type": "code",
   "execution_count": 170,
   "id": "bb607126",
   "metadata": {},
   "outputs": [
    {
     "data": {
      "text/plain": [
       "{'t-shirt': 5, 'mug': 5, 'hat': 4, 'book': 4, 'keychain': 5}"
      ]
     },
     "execution_count": 170,
     "metadata": {},
     "output_type": "execute_result"
    }
   ],
   "source": [
    "def updateInventory(customerOrder, inventory):\n",
    "    invent = {x : j-1 if x in customerOrder else j for x, j in inventory.items()}\n",
    "    ifZero = {x : j for x, j in invent.items()  if j > 0}\n",
    "    \n",
    "    return ifZero\n",
    "upInv = updateInventory(theOrder, inVen)\n",
    "updateInventory(theOrder, inVen)"
   ]
  },
  {
   "cell_type": "code",
   "execution_count": 163,
   "id": "128ee0e8",
   "metadata": {},
   "outputs": [
    {
     "data": {
      "text/plain": [
       "2"
      ]
     },
     "execution_count": 163,
     "metadata": {},
     "output_type": "execute_result"
    }
   ],
   "source": [
    "len(list(theOrder))"
   ]
  },
  {
   "cell_type": "code",
   "execution_count": 167,
   "id": "cd5a6b10",
   "metadata": {},
   "outputs": [
    {
     "name": "stdout",
     "output_type": "stream",
     "text": [
      "The name of a product that a customer ordered book\n",
      "The name of a product that a customer ordered hat\n"
     ]
    },
    {
     "data": {
      "text/plain": [
       "[None, None]"
      ]
     },
     "execution_count": 167,
     "metadata": {},
     "output_type": "execute_result"
    }
   ],
   "source": [
    "[print(f'The name of a product that a customer ordered {list(theOrder)[i]}') for i in range(len(list(theOrder)))]"
   ]
  },
  {
   "cell_type": "code",
   "execution_count": 168,
   "id": "e280d198",
   "metadata": {},
   "outputs": [
    {
     "name": "stdout",
     "output_type": "stream",
     "text": [
      "The quantity of t-shirt: 5\n",
      "The quantity of mug: 5\n",
      "The quantity of hat: 5\n",
      "The quantity of book: 5\n",
      "The quantity of keychain: 5\n",
      "The number of customer orders:2\n",
      "The name of a product that a customer ordered book\n",
      "The name of a product that a customer ordered hat\n",
      "\n",
      "\n",
      "Order Statistics:\n",
      "Total Products Ordered is 2\n",
      "Percentage of Unique Products Ordered is 8.0\n",
      "\n",
      "\n",
      "Updated Inventory:\n",
      "Total of t-shirt is 5\n",
      "Total of mug is 5\n",
      "Total of hat is 4\n",
      "Total of book is 4\n",
      "Total of keychain is 5\n",
      "The price of book is 535\n",
      "The price of hat is 257\n",
      "The total price is: 792 \n"
     ]
    }
   ],
   "source": [
    "def printPrice(pricedOrder):\n",
    "    printi = f'The total price is: {getPrice[1]} '\n",
    "    return printi\n",
    "[print(f'The quantity of {list(inVen.items())[i][0]}: {list(inVen.items())[i][1]}') for i in range(len(list(inVen)))]\n",
    "print(f'The number of customer orders:{len(list(theOrder))}')\n",
    "[print(f'The name of a product that a customer ordered {list(theOrder)[i]}') for i in range(len(list(theOrder)))]\n",
    "print('\\n')\n",
    "print('Order Statistics:')\n",
    "print(f'Total Products Ordered is {calStas[0]}')\n",
    "print(f'Percentage of Unique Products Ordered is {calStas[1]}')\n",
    "print('\\n')\n",
    "print('Updated Inventory:')\n",
    "[print(f'Total of {i[0]} is {i[1]}')for i in list(upInv.items())]\n",
    "[print(f'The price of {list(getPrice[0].items())[i][0]} is {list(getPrice[0].items())[i][1]}') for i in range(len(list(getPrice[0])))]\n",
    "print(printPrice(getPrice))    "
   ]
  }
 ],
 "metadata": {
  "kernelspec": {
   "display_name": "Python 3 (ipykernel)",
   "language": "python",
   "name": "python3"
  },
  "language_info": {
   "codemirror_mode": {
    "name": "ipython",
    "version": 3
   },
   "file_extension": ".py",
   "mimetype": "text/x-python",
   "name": "python",
   "nbconvert_exporter": "python",
   "pygments_lexer": "ipython3",
   "version": "3.11.3"
  }
 },
 "nbformat": 4,
 "nbformat_minor": 5
}
